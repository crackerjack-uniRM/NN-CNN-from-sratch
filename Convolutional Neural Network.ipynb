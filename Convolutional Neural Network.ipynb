{
 "cells": [
  {
   "cell_type": "markdown",
   "id": "3c0b6b4a-1c81-4359-bbe6-774b6c861eb2",
   "metadata": {},
   "source": [
    "### Convolutional Neural Network\n",
    "\n",
    "**Author: rNLKJA**\n",
    "\n",
    "This notebook contains the code & notes for YouTube Video [Convolutional Neural Network from Scratch | Mathematics & Python Code](https://www.youtube.com/watch?v=Lakz2MoHy6o&t=276s).\n",
    "\n",
    "You may also find the original codes on [Github](https://github.com/TheIndependentCode/Neural-Network).\n",
    "\n",
    "I might add some notation for better understanding of How Convolution Neural Network works.\n",
    "\n",
    "And I suggest you have a look on Neural Network notebook for better understanding."
   ]
  },
  {
   "cell_type": "markdown",
   "id": "84fee295-aea8-406c-9711-0f2eebd7d16e",
   "metadata": {},
   "source": [
    "**Kernel**\n",
    "\n",
    "In CNN, the kernel is a filter, which a kernel will generate a new output by cross-correlation."
   ]
  },
  {
   "cell_type": "markdown",
   "id": "e2e80eba-18fb-40e5-81cd-e161c368969a",
   "metadata": {},
   "source": [
    "In math, the Convolution is expressed as $I * K = I * rot 180 (K)$"
   ]
  },
  {
   "cell_type": "markdown",
   "id": "a0feb9ad-a3eb-4398-9c48-322c0f7d57c5",
   "metadata": {
    "execution": {
     "iopub.execute_input": "2022-04-17T04:45:01.283904Z",
     "iopub.status.busy": "2022-04-17T04:45:01.272506Z",
     "iopub.status.idle": "2022-04-17T04:45:01.357607Z",
     "shell.execute_reply": "2022-04-17T04:45:01.355607Z",
     "shell.execute_reply.started": "2022-04-17T04:45:01.283047Z"
    }
   },
   "source": [
    "**Valid cross-correlation**\n",
    "\n",
    "Applied kernel transform to each matrix but not hitting any boarder.\n",
    "\n",
    "**Full cross-correlation**\n",
    "\n",
    "Calculate kernel value for each matrix entry, but in this case, the size will increase since we calculate value outside the data matrix."
   ]
  },
  {
   "cell_type": "markdown",
   "id": "51598914-b91d-496e-81a4-857c55c75b76",
   "metadata": {},
   "source": [
    "**Forward Propagation**\n",
    "\n",
    "$$\n",
    "\\begin{bmatrix}\n",
    "    Y_1 = B_1 + X_1 \\star K_{11} + \\dots + X_n \\star K_{1n} \\\\\n",
    "    Y_2 = B_2 + X_1 \\star K_{21} + \\dots + X_n \\star K_{2n} \\\\\n",
    "    \\vdots \\\\\n",
    "    Y_d = B_d + X_1 \\star K_{d1} + \\dots + X_n \\star K_{dn}\n",
    "\\end{bmatrix} \\\\ Y_i = B_i + \\sum^n_{j=1}X_j \\star K_{ij}, i = 1\\dots d\n",
    "$$"
   ]
  },
  {
   "cell_type": "markdown",
   "id": "bc58e01f-5ac3-4664-addd-c9c1d6f60f55",
   "metadata": {},
   "source": [
    "$\\star$ represents the cross-correlation.\n",
    "\n",
    "$b$ represents the _depth_ of input."
   ]
  },
  {
   "cell_type": "markdown",
   "id": "c77608f0-5bd7-49d6-a44f-f4d6d217910e",
   "metadata": {},
   "source": [
    "**Backward Propagation**\n",
    "\n",
    "We need to calculate $\\cfrac{\\partial E}{\\partial K_{ij}}$, $\\cfrac{\\partial E}{\\partial B_{i}}$ and $\\cfrac{\\partial E}{\\partial X_{j}}$ to update the parameters in CNN."
   ]
  },
  {
   "cell_type": "markdown",
   "id": "aec00f3c-3514-4e76-bf60-23ca9dfc70aa",
   "metadata": {},
   "source": [
    "$Y = B + X\\star K \\Rightarrow \\cfrac{\\partial{E}}{\\partial K} = X \\star \\cfrac{\\partial E}{\\partial Y}$"
   ]
  },
  {
   "cell_type": "markdown",
   "id": "89a80bf6-eb9d-4a9c-a8c3-3641179c2bd2",
   "metadata": {},
   "source": [
    "$Y=B+X*K\\Rightarrow \\cfrac{\\partial E}{\\partial B}=\\cfrac{\\partial E}{\\partial Y}$"
   ]
  },
  {
   "cell_type": "markdown",
   "id": "832cc063-553f-4297-9fb1-6aba09807e39",
   "metadata": {},
   "source": [
    "$Y=B+X\\star K \\Rightarrow \\cfrac{\\partial E}{\\partial X} = \\cfrac{\\partial E}{\\partial Y}\\star_{full}K$"
   ]
  },
  {
   "cell_type": "code",
   "execution_count": 4,
   "id": "68d69d49-ecf7-41f8-8d8c-245183af87ba",
   "metadata": {
    "execution": {
     "iopub.execute_input": "2022-04-17T05:03:47.350099Z",
     "iopub.status.busy": "2022-04-17T05:03:47.349688Z",
     "iopub.status.idle": "2022-04-17T05:03:49.131711Z",
     "shell.execute_reply": "2022-04-17T05:03:49.131098Z",
     "shell.execute_reply.started": "2022-04-17T05:03:47.350072Z"
    },
    "tags": []
   },
   "outputs": [],
   "source": [
    "import numpy as np\n",
    "from tqdm import tqdm\n",
    "from scipy import signal"
   ]
  },
  {
   "cell_type": "code",
   "execution_count": 3,
   "id": "f566657d-d2a2-49d1-a5bc-a5619374b870",
   "metadata": {
    "execution": {
     "iopub.execute_input": "2022-04-17T04:57:53.216371Z",
     "iopub.status.busy": "2022-04-17T04:57:53.216071Z",
     "iopub.status.idle": "2022-04-17T04:57:53.222024Z",
     "shell.execute_reply": "2022-04-17T04:57:53.221154Z",
     "shell.execute_reply.started": "2022-04-17T04:57:53.216344Z"
    }
   },
   "outputs": [],
   "source": [
    "# the base layer code is adapted from the Neural Network Notebook\n",
    "# implmenet the base layer\n",
    "class Layer:\n",
    "    def __init__(self):\n",
    "        self.input = None\n",
    "        self.output = None\n",
    "    \n",
    "    # a forward method takes the input to produce the output\n",
    "    def forward(self, input):\n",
    "        # TODO: return output\n",
    "        pass\n",
    "    \n",
    "    # the backward method takes the output to update its input\n",
    "    # 1. update the training parameters\n",
    "    # 2. return the derivative of error based on the learning rate\n",
    "    def backward(self, output_gradient, learning_rate):\n",
    "        # TODO: update parameters and return input gradient\n",
    "        pass"
   ]
  },
  {
   "cell_type": "code",
   "execution_count": 16,
   "id": "e3a1a4af-b82c-419b-bd96-6bf3e20ab599",
   "metadata": {
    "execution": {
     "iopub.execute_input": "2022-04-17T05:20:45.711646Z",
     "iopub.status.busy": "2022-04-17T05:20:45.711309Z",
     "iopub.status.idle": "2022-04-17T05:20:45.719146Z",
     "shell.execute_reply": "2022-04-17T05:20:45.718519Z",
     "shell.execute_reply.started": "2022-04-17T05:20:45.711619Z"
    }
   },
   "outputs": [],
   "source": [
    "class Convolutional(Layer):\n",
    "    def __init__(self, input_shape, kernel_size, depth):\n",
    "        input_depth, input_height, input_width = input_shape\n",
    "        self.depth = depth\n",
    "        self.input_shape = input_shape\n",
    "        self.input_depth = input_depth\n",
    "        self.output_shape = (depth, input_height-kernel_size+1, \n",
    "                                    input_width-kernel_size+1)\n",
    "        self.kernels_shape = (depth, input_depth, kernel_size, kernel_size)\n",
    "        self.kernels = np.random.randn(*self.kernels_shape)\n",
    "        self.biases = np.random.randn(*self.output_shape)\n",
    "\n",
    "    def forward(self, input):\n",
    "        self.input = input\n",
    "        self.output = np.copy(self.biases)\n",
    "        for i in range(self.depth):\n",
    "            for j in range(self.input_depth):\n",
    "                self.output[i] += signal.correlate2d(self.input[j], self.kernels[i, j], \"valid\")\n",
    "        return self.output\n",
    "\n",
    "    def backward(self, output_gradient, learning_rate):\n",
    "        kernels_gradient = np.zeros(self.kernels_shape)\n",
    "        input_gradient = np.zeros(self.input_shape)\n",
    "\n",
    "        for i in range(self.depth):\n",
    "            for j in range(self.input_depth):\n",
    "                kernels_gradient[i, j] = signal.correlate2d(self.input[j], output_gradient[i], \"valid\")\n",
    "                input_gradient[j] += signal.convolve2d(output_gradient[i], self.kernels[i, j], \"full\")\n",
    "\n",
    "        self.kernels -= learning_rate * kernels_gradient\n",
    "        self.biases -= learning_rate * output_gradient\n",
    "        return input_gradient"
   ]
  },
  {
   "cell_type": "code",
   "execution_count": 5,
   "id": "0c8357e9-b5e1-40b9-9613-2335b49175da",
   "metadata": {
    "execution": {
     "iopub.execute_input": "2022-04-17T05:15:44.663325Z",
     "iopub.status.busy": "2022-04-17T05:15:44.663080Z",
     "iopub.status.idle": "2022-04-17T05:15:44.668737Z",
     "shell.execute_reply": "2022-04-17T05:15:44.667919Z",
     "shell.execute_reply.started": "2022-04-17T05:15:44.663305Z"
    }
   },
   "outputs": [],
   "source": [
    "class Dense(Layer):\n",
    "    def __init__(self, input_size, output_size):\n",
    "        self.weights = np.random.randn(output_size, input_size)\n",
    "        self.bias = np.random.randn(output_size, 1)\n",
    "\n",
    "    def forward(self, input):\n",
    "        self.input = input\n",
    "        return np.dot(self.weights, self.input) + self.bias\n",
    "\n",
    "    def backward(self, output_gradient, learning_rate):\n",
    "        weights_gradient = np.dot(output_gradient, self.input.T)\n",
    "        input_gradient = np.dot(self.weights.T, output_gradient)\n",
    "        self.weights -= learning_rate * weights_gradient\n",
    "        self.bias -= learning_rate * output_gradient\n",
    "        return input_gradient"
   ]
  },
  {
   "cell_type": "code",
   "execution_count": 6,
   "id": "4b4d51fa-d96a-4130-a6dc-a5836a8cd9d8",
   "metadata": {
    "execution": {
     "iopub.execute_input": "2022-04-17T05:16:20.027661Z",
     "iopub.status.busy": "2022-04-17T05:16:20.027241Z",
     "iopub.status.idle": "2022-04-17T05:16:20.033183Z",
     "shell.execute_reply": "2022-04-17T05:16:20.032450Z",
     "shell.execute_reply.started": "2022-04-17T05:16:20.027633Z"
    }
   },
   "outputs": [],
   "source": [
    "def mse(y_true, y_pred):\n",
    "    return np.mean(np.power(y_true - y_pred, 2))\n",
    "\n",
    "def mse_prime(y_true, y_pred):\n",
    "    return 2 * (y_pred - y_true) / np.size(y_true)\n",
    "\n",
    "def binary_cross_entropy(y_true, y_pred):\n",
    "    return np.mean(-y_true * np.log(y_pred) - (1 - y_true) * np.log(1 - y_pred))\n",
    "\n",
    "def binary_cross_entropy_prime(y_true, y_pred):\n",
    "    return ((1 - y_true) / (1 - y_pred) - y_true / y_pred) / np.size(y_true)"
   ]
  },
  {
   "cell_type": "code",
   "execution_count": 7,
   "id": "bddfa82a-8642-4dbf-b6b5-b356f83b345c",
   "metadata": {
    "execution": {
     "iopub.execute_input": "2022-04-17T05:17:16.595922Z",
     "iopub.status.busy": "2022-04-17T05:17:16.595621Z",
     "iopub.status.idle": "2022-04-17T05:17:16.600641Z",
     "shell.execute_reply": "2022-04-17T05:17:16.600003Z",
     "shell.execute_reply.started": "2022-04-17T05:17:16.595894Z"
    }
   },
   "outputs": [],
   "source": [
    "class Reshape(Layer):\n",
    "    def __init__(self, input_shape, output_shape):\n",
    "        self.input_shape = input_shape\n",
    "        self.output_shape = output_shape\n",
    "\n",
    "    def forward(self, input):\n",
    "        return np.reshape(input, self.output_shape)\n",
    "\n",
    "    def backward(self, output_gradient, learning_rate):\n",
    "        return np.reshape(output_gradient, self.input_shape)"
   ]
  },
  {
   "cell_type": "code",
   "execution_count": 8,
   "id": "7389c460-5f0b-4a3b-9662-f69828240f2b",
   "metadata": {
    "execution": {
     "iopub.execute_input": "2022-04-17T05:17:43.909132Z",
     "iopub.status.busy": "2022-04-17T05:17:43.908870Z",
     "iopub.status.idle": "2022-04-17T05:17:43.913748Z",
     "shell.execute_reply": "2022-04-17T05:17:43.913089Z",
     "shell.execute_reply.started": "2022-04-17T05:17:43.909106Z"
    }
   },
   "outputs": [],
   "source": [
    "class Activation(Layer):\n",
    "    def __init__(self, activation, activation_prime):\n",
    "        self.activation = activation\n",
    "        self.activation_prime = activation_prime\n",
    "\n",
    "    def forward(self, input):\n",
    "        self.input = input\n",
    "        return self.activation(self.input)\n",
    "\n",
    "    def backward(self, output_gradient, learning_rate):\n",
    "        return np.multiply(output_gradient, self.activation_prime(self.input))"
   ]
  },
  {
   "cell_type": "code",
   "execution_count": 9,
   "id": "1e56db5d-63f6-4e12-8249-3d9b66acee64",
   "metadata": {
    "execution": {
     "iopub.execute_input": "2022-04-17T05:17:44.727372Z",
     "iopub.status.busy": "2022-04-17T05:17:44.727078Z",
     "iopub.status.idle": "2022-04-17T05:17:44.735084Z",
     "shell.execute_reply": "2022-04-17T05:17:44.734246Z",
     "shell.execute_reply.started": "2022-04-17T05:17:44.727344Z"
    }
   },
   "outputs": [],
   "source": [
    "class Tanh(Activation):\n",
    "    def __init__(self):\n",
    "        def tanh(x):\n",
    "            return np.tanh(x)\n",
    "\n",
    "        def tanh_prime(x):\n",
    "            return 1 - np.tanh(x) ** 2\n",
    "\n",
    "        super().__init__(tanh, tanh_prime)\n",
    "\n",
    "class Sigmoid(Activation):\n",
    "    def __init__(self):\n",
    "        def sigmoid(x):\n",
    "            return 1 / (1 + np.exp(-x))\n",
    "\n",
    "        def sigmoid_prime(x):\n",
    "            s = sigmoid(x)\n",
    "            return s * (1 - s)\n",
    "\n",
    "        super().__init__(sigmoid, sigmoid_prime)\n",
    "\n",
    "class Softmax(Layer):\n",
    "    def forward(self, input):\n",
    "        tmp = np.exp(input)\n",
    "        self.output = tmp / np.sum(tmp)\n",
    "        return self.output\n",
    "    \n",
    "    def backward(self, output_gradient, learning_rate):\n",
    "        # This version is faster than the one presented in the video\n",
    "        n = np.size(self.output)\n",
    "        return np.dot((np.identity(n) - self.output.T) * self.output, output_gradient)\n",
    "        # Original formula:\n",
    "        # tmp = np.tile(self.output, n)\n",
    "        # return np.dot(tmp * (np.identity(n) - np.transpose(tmp)), output_gradient)"
   ]
  },
  {
   "cell_type": "code",
   "execution_count": 10,
   "id": "93b99b40-1c59-41e0-9244-37b1b0edbaa4",
   "metadata": {
    "execution": {
     "iopub.execute_input": "2022-04-17T05:18:38.981348Z",
     "iopub.status.busy": "2022-04-17T05:18:38.981088Z",
     "iopub.status.idle": "2022-04-17T05:18:38.986644Z",
     "shell.execute_reply": "2022-04-17T05:18:38.986095Z",
     "shell.execute_reply.started": "2022-04-17T05:18:38.981326Z"
    }
   },
   "outputs": [],
   "source": [
    "def predict(network, input):\n",
    "    output = input\n",
    "    for layer in network:\n",
    "        output = layer.forward(output)\n",
    "    return output\n",
    "\n",
    "def train(network, loss, loss_prime, x_train, y_train, epochs = 1000, learning_rate = 0.01, verbose = True):\n",
    "    for e in range(epochs):\n",
    "        error = 0\n",
    "        for x, y in zip(x_train, y_train):\n",
    "            # forward\n",
    "            output = predict(network, x)\n",
    "\n",
    "            # error\n",
    "            error += loss(y, output)\n",
    "\n",
    "            # backward\n",
    "            grad = loss_prime(y, output)\n",
    "            for layer in reversed(network):\n",
    "                grad = layer.backward(grad, learning_rate)\n",
    "\n",
    "        error /= len(x_train)\n",
    "        if verbose:\n",
    "            print(f\"{e + 1}/{epochs}, error={error}\")"
   ]
  },
  {
   "cell_type": "code",
   "execution_count": 11,
   "id": "a50f597e-7a46-4042-a68f-adff4e541733",
   "metadata": {
    "execution": {
     "iopub.execute_input": "2022-04-17T05:18:58.814253Z",
     "iopub.status.busy": "2022-04-17T05:18:58.813990Z",
     "iopub.status.idle": "2022-04-17T05:19:20.523174Z",
     "shell.execute_reply": "2022-04-17T05:19:20.522665Z",
     "shell.execute_reply.started": "2022-04-17T05:18:58.814226Z"
    }
   },
   "outputs": [],
   "source": [
    "from keras.datasets import mnist\n",
    "from keras.utils import np_utils"
   ]
  },
  {
   "cell_type": "code",
   "execution_count": 12,
   "id": "2f99b9ec-622d-4cc1-be96-7f2b5a8dafb7",
   "metadata": {
    "execution": {
     "iopub.execute_input": "2022-04-17T05:19:39.399732Z",
     "iopub.status.busy": "2022-04-17T05:19:39.399355Z",
     "iopub.status.idle": "2022-04-17T05:19:39.405754Z",
     "shell.execute_reply": "2022-04-17T05:19:39.405049Z",
     "shell.execute_reply.started": "2022-04-17T05:19:39.399706Z"
    }
   },
   "outputs": [],
   "source": [
    "def preprocess_data(x, y, limit):\n",
    "    zero_index = np.where(y == 0)[0][:limit]\n",
    "    one_index = np.where(y == 1)[0][:limit]\n",
    "    all_indices = np.hstack((zero_index, one_index))\n",
    "    all_indices = np.random.permutation(all_indices)\n",
    "    x, y = x[all_indices], y[all_indices]\n",
    "    x = x.reshape(len(x), 1, 28, 28)\n",
    "    x = x.astype(\"float32\") / 255\n",
    "    y = np_utils.to_categorical(y)\n",
    "    y = y.reshape(len(y), 2, 1)\n",
    "    return x, y"
   ]
  },
  {
   "cell_type": "code",
   "execution_count": 13,
   "id": "04f8377b-d63f-4545-b989-22d0938ca67c",
   "metadata": {
    "execution": {
     "iopub.execute_input": "2022-04-17T05:19:46.601807Z",
     "iopub.status.busy": "2022-04-17T05:19:46.601257Z",
     "iopub.status.idle": "2022-04-17T05:19:48.932101Z",
     "shell.execute_reply": "2022-04-17T05:19:48.931368Z",
     "shell.execute_reply.started": "2022-04-17T05:19:46.601782Z"
    }
   },
   "outputs": [
    {
     "name": "stdout",
     "output_type": "stream",
     "text": [
      "Downloading data from https://storage.googleapis.com/tensorflow/tf-keras-datasets/mnist.npz\n",
      "11493376/11490434 [==============================] - 1s 0us/step\n",
      "11501568/11490434 [==============================] - 1s 0us/step\n"
     ]
    }
   ],
   "source": [
    "# load MNIST from server, limit to 100 images per class since we're not training on GPU\n",
    "(x_train, y_train), (x_test, y_test) = mnist.load_data()\n",
    "x_train, y_train = preprocess_data(x_train, y_train, 100)\n",
    "x_test, y_test = preprocess_data(x_test, y_test, 100)"
   ]
  },
  {
   "cell_type": "code",
   "execution_count": 17,
   "id": "36558f47-9448-430f-bd03-a6759b95fea7",
   "metadata": {
    "execution": {
     "iopub.execute_input": "2022-04-17T05:20:48.449609Z",
     "iopub.status.busy": "2022-04-17T05:20:48.449344Z",
     "iopub.status.idle": "2022-04-17T05:20:48.466653Z",
     "shell.execute_reply": "2022-04-17T05:20:48.465901Z",
     "shell.execute_reply.started": "2022-04-17T05:20:48.449585Z"
    },
    "tags": []
   },
   "outputs": [],
   "source": [
    "# neural network\n",
    "neural_network = [\n",
    "    Convolutional((1, 28, 28), 3, 5),\n",
    "    Sigmoid(),\n",
    "    Reshape((5, 26, 26), (5 * 26 * 26, 1)),\n",
    "    Dense(5 * 26 * 26, 100),\n",
    "    Sigmoid(),\n",
    "    Dense(100, 2),\n",
    "    Sigmoid()\n",
    "]"
   ]
  },
  {
   "cell_type": "code",
   "execution_count": 19,
   "id": "869c2c6d-086f-4c42-9f01-f8e8bb0997df",
   "metadata": {
    "execution": {
     "iopub.execute_input": "2022-04-17T05:21:07.628646Z",
     "iopub.status.busy": "2022-04-17T05:21:07.628412Z",
     "iopub.status.idle": "2022-04-17T05:21:17.760079Z",
     "shell.execute_reply": "2022-04-17T05:21:17.759218Z",
     "shell.execute_reply.started": "2022-04-17T05:21:07.628622Z"
    },
    "tags": []
   },
   "outputs": [
    {
     "name": "stdout",
     "output_type": "stream",
     "text": [
      "1/20, error=0.42720470367585534\n",
      "2/20, error=0.12332058714025786\n",
      "3/20, error=0.05687849496976222\n",
      "4/20, error=0.060353368465701676\n",
      "5/20, error=0.04780772851249701\n",
      "6/20, error=0.041250207871764234\n",
      "7/20, error=0.027703682382603612\n",
      "8/20, error=0.016577769755288504\n",
      "9/20, error=0.02116051085203891\n",
      "10/20, error=0.01073188835885614\n",
      "11/20, error=0.007931861256089514\n",
      "12/20, error=0.006614308839821555\n",
      "13/20, error=0.005569598371420242\n",
      "14/20, error=0.004790048958928143\n",
      "15/20, error=0.00442070000220764\n",
      "16/20, error=0.0043193258308285324\n",
      "17/20, error=0.0037462257937617887\n",
      "18/20, error=0.00352881564665587\n",
      "19/20, error=0.003267057955892115\n",
      "20/20, error=0.003074047882638469\n"
     ]
    }
   ],
   "source": [
    "# train\n",
    "train(\n",
    "    neural_network,\n",
    "    binary_cross_entropy,\n",
    "    binary_cross_entropy_prime,\n",
    "    x_train,\n",
    "    y_train,\n",
    "    epochs=20,\n",
    "    learning_rate=0.1\n",
    ")"
   ]
  },
  {
   "cell_type": "code",
   "execution_count": 37,
   "id": "2e9c4466-7d34-4e6c-9c09-b737ddded0b4",
   "metadata": {
    "execution": {
     "iopub.execute_input": "2022-04-17T05:27:58.984282Z",
     "iopub.status.busy": "2022-04-17T05:27:58.984018Z",
     "iopub.status.idle": "2022-04-17T05:27:59.197491Z",
     "shell.execute_reply": "2022-04-17T05:27:59.196782Z",
     "shell.execute_reply.started": "2022-04-17T05:27:58.984255Z"
    },
    "scrolled": true,
    "tags": []
   },
   "outputs": [
    {
     "name": "stdout",
     "output_type": "stream",
     "text": [
      "pred: 0, true: 0\n",
      "pred: 0, true: 0\n",
      "pred: 0, true: 0\n",
      "pred: 0, true: 0\n",
      "pred: 0, true: 0\n",
      "pred: 0, true: 0\n",
      "pred: 0, true: 0\n",
      "pred: 1, true: 1\n",
      "pred: 1, true: 1\n",
      "pred: 0, true: 0\n",
      "pred: 0, true: 0\n",
      "pred: 0, true: 0\n",
      "pred: 0, true: 0\n",
      "pred: 1, true: 1\n",
      "pred: 1, true: 1\n",
      "pred: 1, true: 1\n",
      "pred: 0, true: 0\n",
      "pred: 1, true: 1\n",
      "pred: 1, true: 1\n",
      "pred: 1, true: 1\n",
      "pred: 1, true: 1\n",
      "pred: 1, true: 1\n",
      "pred: 1, true: 1\n",
      "pred: 1, true: 1\n",
      "pred: 1, true: 1\n",
      "pred: 1, true: 1\n",
      "pred: 0, true: 0\n",
      "pred: 0, true: 0\n",
      "pred: 0, true: 0\n",
      "pred: 0, true: 0\n",
      "pred: 0, true: 0\n",
      "pred: 0, true: 0\n",
      "pred: 1, true: 1\n",
      "pred: 1, true: 1\n",
      "pred: 1, true: 1\n",
      "pred: 0, true: 0\n",
      "pred: 1, true: 1\n",
      "pred: 0, true: 0\n",
      "pred: 0, true: 0\n",
      "pred: 1, true: 1\n",
      "pred: 1, true: 1\n",
      "pred: 1, true: 1\n",
      "pred: 0, true: 0\n",
      "pred: 1, true: 1\n",
      "pred: 1, true: 1\n",
      "pred: 1, true: 1\n",
      "pred: 1, true: 1\n",
      "pred: 0, true: 0\n",
      "pred: 0, true: 0\n",
      "pred: 1, true: 1\n",
      "pred: 1, true: 1\n",
      "pred: 1, true: 1\n",
      "pred: 0, true: 0\n",
      "pred: 1, true: 1\n",
      "pred: 1, true: 1\n",
      "pred: 0, true: 0\n",
      "pred: 0, true: 0\n",
      "pred: 1, true: 1\n",
      "pred: 1, true: 1\n",
      "pred: 0, true: 0\n",
      "pred: 0, true: 0\n",
      "pred: 0, true: 0\n",
      "pred: 0, true: 0\n",
      "pred: 0, true: 0\n",
      "pred: 1, true: 1\n",
      "pred: 1, true: 1\n",
      "pred: 0, true: 0\n",
      "pred: 1, true: 1\n",
      "pred: 0, true: 0\n",
      "pred: 1, true: 1\n",
      "pred: 0, true: 0\n",
      "pred: 0, true: 0\n",
      "pred: 1, true: 1\n",
      "pred: 1, true: 1\n",
      "pred: 1, true: 1\n",
      "pred: 1, true: 1\n",
      "pred: 1, true: 1\n",
      "pred: 1, true: 1\n",
      "pred: 0, true: 0\n",
      "pred: 0, true: 0\n",
      "pred: 0, true: 0\n",
      "pred: 1, true: 1\n",
      "pred: 1, true: 1\n",
      "pred: 0, true: 0\n",
      "pred: 0, true: 0\n",
      "pred: 1, true: 1\n",
      "pred: 0, true: 0\n",
      "pred: 0, true: 0\n",
      "pred: 1, true: 1\n",
      "pred: 1, true: 1\n",
      "pred: 0, true: 0\n",
      "pred: 0, true: 0\n",
      "pred: 1, true: 1\n",
      "pred: 0, true: 0\n",
      "pred: 1, true: 1\n",
      "pred: 1, true: 1\n",
      "pred: 0, true: 0\n",
      "pred: 0, true: 0\n",
      "pred: 0, true: 0\n",
      "pred: 0, true: 0\n",
      "pred: 1, true: 1\n",
      "pred: 1, true: 1\n",
      "pred: 0, true: 0\n",
      "pred: 0, true: 0\n",
      "pred: 1, true: 1\n",
      "pred: 1, true: 1\n",
      "pred: 1, true: 1\n",
      "pred: 1, true: 1\n",
      "pred: 0, true: 0\n",
      "pred: 1, true: 1\n",
      "pred: 1, true: 1\n",
      "pred: 1, true: 1\n",
      "pred: 0, true: 0\n",
      "pred: 1, true: 1\n",
      "pred: 0, true: 0\n",
      "pred: 1, true: 1\n",
      "pred: 1, true: 1\n",
      "pred: 0, true: 0\n",
      "pred: 0, true: 0\n",
      "pred: 1, true: 1\n",
      "pred: 0, true: 0\n",
      "pred: 1, true: 1\n",
      "pred: 0, true: 0\n",
      "pred: 0, true: 0\n",
      "pred: 1, true: 1\n",
      "pred: 1, true: 1\n",
      "pred: 1, true: 1\n",
      "pred: 0, true: 0\n",
      "pred: 1, true: 1\n",
      "pred: 0, true: 0\n",
      "pred: 1, true: 1\n",
      "pred: 0, true: 0\n",
      "pred: 0, true: 0\n",
      "pred: 0, true: 0\n",
      "pred: 1, true: 1\n",
      "pred: 0, true: 0\n",
      "pred: 1, true: 1\n",
      "pred: 0, true: 0\n",
      "pred: 0, true: 0\n",
      "pred: 0, true: 0\n",
      "pred: 1, true: 1\n",
      "pred: 1, true: 1\n",
      "pred: 1, true: 1\n",
      "pred: 0, true: 0\n",
      "pred: 0, true: 0\n",
      "pred: 1, true: 1\n",
      "pred: 1, true: 1\n",
      "pred: 0, true: 0\n",
      "pred: 0, true: 0\n",
      "pred: 1, true: 1\n",
      "pred: 1, true: 1\n",
      "pred: 1, true: 1\n",
      "pred: 0, true: 0\n",
      "pred: 0, true: 0\n",
      "pred: 1, true: 1\n",
      "pred: 1, true: 1\n",
      "pred: 1, true: 1\n",
      "pred: 0, true: 0\n",
      "pred: 0, true: 0\n",
      "pred: 0, true: 0\n",
      "pred: 0, true: 0\n",
      "pred: 0, true: 0\n",
      "pred: 0, true: 0\n",
      "pred: 1, true: 1\n",
      "pred: 1, true: 1\n",
      "pred: 0, true: 0\n",
      "pred: 1, true: 1\n",
      "pred: 0, true: 0\n",
      "pred: 1, true: 1\n",
      "pred: 0, true: 0\n",
      "pred: 0, true: 0\n",
      "pred: 0, true: 0\n",
      "pred: 1, true: 1\n",
      "pred: 1, true: 1\n",
      "pred: 1, true: 1\n",
      "pred: 1, true: 1\n",
      "pred: 0, true: 0\n",
      "pred: 1, true: 1\n",
      "pred: 0, true: 0\n",
      "pred: 1, true: 1\n",
      "pred: 0, true: 0\n",
      "pred: 0, true: 0\n",
      "pred: 0, true: 0\n",
      "pred: 0, true: 0\n",
      "pred: 0, true: 0\n",
      "pred: 1, true: 1\n",
      "pred: 1, true: 1\n",
      "pred: 0, true: 0\n",
      "pred: 0, true: 0\n",
      "pred: 0, true: 0\n",
      "pred: 1, true: 1\n",
      "pred: 1, true: 1\n",
      "pred: 1, true: 1\n",
      "pred: 0, true: 0\n",
      "pred: 0, true: 0\n",
      "pred: 1, true: 1\n",
      "pred: 0, true: 0\n",
      "pred: 1, true: 1\n",
      "pred: 1, true: 1\n",
      "pred: 0, true: 0\n"
     ]
    }
   ],
   "source": [
    "# test\n",
    "pred, true = [], []\n",
    "for x, y in zip(x_test, y_test):\n",
    "    output = predict(neural_network, x)\n",
    "    pred.append(np.argmax(output))\n",
    "    true.append(np.argmax(y))\n",
    "    print(f\"pred: {np.argmax(output)}, true: {np.argmax(y)}\")"
   ]
  },
  {
   "cell_type": "code",
   "execution_count": 22,
   "id": "c892fcd3-faeb-4aca-abf0-d903a25cfdf3",
   "metadata": {
    "execution": {
     "iopub.execute_input": "2022-04-17T05:23:08.314267Z",
     "iopub.status.busy": "2022-04-17T05:23:08.313982Z",
     "iopub.status.idle": "2022-04-17T05:23:10.466950Z",
     "shell.execute_reply": "2022-04-17T05:23:10.466086Z",
     "shell.execute_reply.started": "2022-04-17T05:23:08.314236Z"
    }
   },
   "outputs": [],
   "source": [
    "from sklearn.metrics import confusion_matrix\n",
    "import seaborn as sns"
   ]
  },
  {
   "cell_type": "code",
   "execution_count": 39,
   "id": "7f22409e-aad7-4d7e-9a5b-1b6dcae090ac",
   "metadata": {
    "execution": {
     "iopub.execute_input": "2022-04-17T05:28:12.316677Z",
     "iopub.status.busy": "2022-04-17T05:28:12.316400Z",
     "iopub.status.idle": "2022-04-17T05:28:12.496972Z",
     "shell.execute_reply": "2022-04-17T05:28:12.496285Z",
     "shell.execute_reply.started": "2022-04-17T05:28:12.316649Z"
    },
    "tags": []
   },
   "outputs": [
    {
     "data": {
      "text/plain": [
       "<AxesSubplot:>"
      ]
     },
     "execution_count": 39,
     "metadata": {},
     "output_type": "execute_result"
    },
    {
     "data": {
      "image/png": "[encoded data removed]",
      "text/plain": [
       "<Figure size 432x288 with 2 Axes>"
      ]
     },
     "metadata": {
      "needs_background": "light"
     },
     "output_type": "display_data"
    }
   ],
   "source": [
    "cm = confusion_matrix(true, pred)\n",
    "sns.heatmap(cm)"
   ]
  },
  {
   "cell_type": "code",
   "execution_count": null,
   "id": "3a6f3812-a252-4f42-94d7-1ec260c7e183",
   "metadata": {},
   "outputs": [],
   "source": []
  }
 ],
 "metadata": {
  "kernelspec": {
   "display_name": "anaconda-python-3.10",
   "language": "python",
   "name": "anaconda-python-3.10"
  },
  "language_info": {
   "codemirror_mode": {
    "name": "ipython",
    "version": 3
   },
   "file_extension": ".py",
   "mimetype": "text/x-python",
   "name": "python",
   "nbconvert_exporter": "python",
   "pygments_lexer": "ipython3",
   "version": "3.8.8"
  }
 },
 "nbformat": 4,
 "nbformat_minor": 5
}
